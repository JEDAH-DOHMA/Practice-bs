{
 "cells": [
  {
   "cell_type": "markdown",
   "id": "8cc76435-636f-4a56-91e7-0d5612ba04eb",
   "metadata": {},
   "source": [
    "<h1 style=\"font-size:3rem;color:orange;\">Jupyter notebook</h1>"
   ]
  },
  {
   "cell_type": "markdown",
   "id": "fd847193-cd1d-466d-9950-ac8128aef913",
   "metadata": {},
   "source": [
    "# Ejercicios"
   ]
  },
  {
   "cell_type": "markdown",
   "id": "b27c1abf-d523-4c96-afc8-922ca28bd7c7",
   "metadata": {},
   "source": [
    "## Output Basico"
   ]
  },
  {
   "cell_type": "code",
   "execution_count": 1,
   "id": "0d550628-fff3-4390-a1da-a8a9d52106d7",
   "metadata": {},
   "outputs": [
    {
     "name": "stdout",
     "output_type": "stream",
     "text": [
      "hello world\n"
     ]
    }
   ],
   "source": [
    "print(\"hello world\") "
   ]
  },
  {
   "cell_type": "markdown",
   "id": "5e4f3ce7-02ac-4dfc-97e7-9198582625bd",
   "metadata": {},
   "source": [
    "## Insertar variable"
   ]
  },
  {
   "cell_type": "code",
   "execution_count": 2,
   "id": "b366df5a-b4b0-4ed3-9e28-3c56ede6b409",
   "metadata": {},
   "outputs": [
    {
     "name": "stdin",
     "output_type": "stream",
     "text": [
      "what's your name? diego\n"
     ]
    },
    {
     "name": "stdout",
     "output_type": "stream",
     "text": [
      "Hello, diego!\n"
     ]
    }
   ],
   "source": [
    "person = input(\"what's your name?\") \n",
    "message = \"Hello, {}!\".format(person)\n",
    "print(message)"
   ]
  },
  {
   "cell_type": "markdown",
   "id": "0c8e6fc9-c7ab-4d27-8bb5-4c8f3bf93634",
   "metadata": {},
   "source": [
    "## Multiline string and string length"
   ]
  },
  {
   "cell_type": "code",
   "execution_count": 3,
   "id": "8d708d17-0fe6-4e21-999f-b4c6557ca4f5",
   "metadata": {},
   "outputs": [
    {
     "name": "stdout",
     "output_type": "stream",
     "text": [
      "Once upon a time\n",
      "there live a bear family\n",
      "who ate some honey\n",
      "60\n"
     ]
    }
   ],
   "source": [
    "story = \"\"\"Once upon a time\n",
    "there live a bear family\n",
    "who ate some honey\"\"\"\n",
    "print(story)\n",
    "print(len(story))"
   ]
  },
  {
   "cell_type": "markdown",
   "id": "6eb6fee1-bcc3-45a0-9a5f-223d7fdc6f0d",
   "metadata": {},
   "source": [
    "## Math operations"
   ]
  },
  {
   "cell_type": "code",
   "execution_count": 4,
   "id": "870c0f7e-cd55-4556-81aa-670a705f0585",
   "metadata": {},
   "outputs": [
    {
     "name": "stdout",
     "output_type": "stream",
     "text": [
      "5.25\n",
      "1\n"
     ]
    }
   ],
   "source": [
    "x = 7\n",
    "y = 4\n",
    "z = (x * 3) / y\n",
    "m = (x * 3) % y #modulo returns the remainder\n",
    "print(z)\n",
    "print(m)"
   ]
  },
  {
   "cell_type": "markdown",
   "id": "d7a070db-9fa8-4015-8915-1546a426158d",
   "metadata": {},
   "source": [
    "## Lists(arrays)"
   ]
  },
  {
   "cell_type": "code",
   "execution_count": 6,
   "id": "05380973-1a28-4363-920b-4779eae1133f",
   "metadata": {},
   "outputs": [
    {
     "name": "stdout",
     "output_type": "stream",
     "text": [
      "Diablos\n"
     ]
    }
   ],
   "source": [
    "wyverns = ['Rathalos', 'Rathian', 'Legiana', 'Diablos', 'Paolomu']\n",
    "print(wyverns[3])"
   ]
  },
  {
   "cell_type": "code",
   "execution_count": null,
   "id": "43143e6f-8e68-4860-afec-8e580abdf068",
   "metadata": {},
   "outputs": [],
   "source": []
  }
 ],
 "metadata": {
  "kernelspec": {
   "display_name": "Python 3 (ipykernel)",
   "language": "python",
   "name": "python3"
  },
  "language_info": {
   "codemirror_mode": {
    "name": "ipython",
    "version": 3
   },
   "file_extension": ".py",
   "mimetype": "text/x-python",
   "name": "python",
   "nbconvert_exporter": "python",
   "pygments_lexer": "ipython3",
   "version": "3.11.7"
  }
 },
 "nbformat": 4,
 "nbformat_minor": 5
}
