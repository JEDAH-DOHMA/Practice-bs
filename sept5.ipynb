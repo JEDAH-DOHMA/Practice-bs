{
 "cells": [
  {
   "cell_type": "code",
   "execution_count": 1,
   "id": "2b9e6b5a-66ac-44a8-a068-7e953bd7e16c",
   "metadata": {},
   "outputs": [
    {
     "name": "stdout",
     "output_type": "stream",
     "text": [
      "Defaulting to user installation because normal site-packages is not writeable\n",
      "Requirement already satisfied: biopython in c:\\users\\diego canul\\appdata\\roaming\\python\\python311\\site-packages (1.84)\n",
      "Requirement already satisfied: numpy in c:\\programdata\\anaconda3\\lib\\site-packages (from biopython) (1.26.4)\n",
      "Note: you may need to restart the kernel to use updated packages.\n"
     ]
    }
   ],
   "source": [
    "pip install biopython"
   ]
  },
  {
   "cell_type": "code",
   "execution_count": 2,
   "id": "72743ebd-3d31-44f3-93a4-f7b734f0a77d",
   "metadata": {},
   "outputs": [
    {
     "name": "stdout",
     "output_type": "stream",
     "text": [
      "Defaulting to user installation because normal site-packages is not writeable\n",
      "Requirement already satisfied: pandas in c:\\programdata\\anaconda3\\lib\\site-packages (2.1.4)\n",
      "Requirement already satisfied: numpy<2,>=1.23.2 in c:\\programdata\\anaconda3\\lib\\site-packages (from pandas) (1.26.4)\n",
      "Requirement already satisfied: python-dateutil>=2.8.2 in c:\\programdata\\anaconda3\\lib\\site-packages (from pandas) (2.8.2)\n",
      "Requirement already satisfied: pytz>=2020.1 in c:\\programdata\\anaconda3\\lib\\site-packages (from pandas) (2023.3.post1)\n",
      "Requirement already satisfied: tzdata>=2022.1 in c:\\programdata\\anaconda3\\lib\\site-packages (from pandas) (2023.3)\n",
      "Requirement already satisfied: six>=1.5 in c:\\programdata\\anaconda3\\lib\\site-packages (from python-dateutil>=2.8.2->pandas) (1.16.0)\n",
      "Note: you may need to restart the kernel to use updated packages.\n"
     ]
    }
   ],
   "source": [
    "pip install pandas"
   ]
  },
  {
   "cell_type": "code",
   "execution_count": 3,
   "id": "55667b12-5ec4-4fbc-bc6b-55ee0bae359e",
   "metadata": {
    "scrolled": true
   },
   "outputs": [],
   "source": [
    "import glob\n",
    "from Bio import SeqIO\n",
    "from collections import Counter\n",
    "import pandas as pd\n",
    "import os"
   ]
  },
  {
   "cell_type": "code",
   "execution_count": 4,
   "id": "b8840dd0-e0ec-43b6-a160-c9c290bcdf3f",
   "metadata": {},
   "outputs": [],
   "source": [
    "file_directory=\"/Users/Diego Canul/Desktop/Gen\""
   ]
  },
  {
   "cell_type": "code",
   "execution_count": 5,
   "id": "30104ee9-eafb-47eb-b394-23ad40822e42",
   "metadata": {},
   "outputs": [],
   "source": [
    "gfiles=glob.glob('%s/*.gb'%file_directory)"
   ]
  },
  {
   "cell_type": "code",
   "execution_count": 6,
   "id": "4e634f89-24be-4730-8f6a-5d0c724f0742",
   "metadata": {},
   "outputs": [
    {
     "data": {
      "text/plain": [
       "['/Users/Diego Canul/Desktop/Gen\\\\AR465.gb',\n",
       " '/Users/Diego Canul/Desktop/Gen\\\\M48.gb',\n",
       " '/Users/Diego Canul/Desktop/Gen\\\\P10.gb',\n",
       " '/Users/Diego Canul/Desktop/Gen\\\\R50.gb',\n",
       " '/Users/Diego Canul/Desktop/Gen\\\\V521.gb']"
      ]
     },
     "execution_count": 6,
     "metadata": {},
     "output_type": "execute_result"
    }
   ],
   "source": [
    "gfiles"
   ]
  },
  {
   "cell_type": "code",
   "execution_count": 7,
   "id": "604e9ff1-4fac-407e-98f3-04522d9de59c",
   "metadata": {},
   "outputs": [
    {
     "data": {
      "text/plain": [
       "'/Users/Diego Canul/Desktop/Gen\\\\AR465.gb'"
      ]
     },
     "execution_count": 7,
     "metadata": {},
     "output_type": "execute_result"
    }
   ],
   "source": [
    "gfiles[0]"
   ]
  },
  {
   "cell_type": "code",
   "execution_count": 8,
   "id": "d5d66749-0c52-4fdb-af08-e35b2183030c",
   "metadata": {},
   "outputs": [],
   "source": [
    "def read_file(gfile):\n",
    "    genbank_object=SeqIO.read(gfile,'gb')\n",
    "    features=genbank_object.features\n",
    "    feature_types=[feature.type for feature in features]\n",
    "    return feature_types"
   ]
  },
  {
   "cell_type": "code",
   "execution_count": 9,
   "id": "91167ced-f232-43f5-8158-d76cd9756150",
   "metadata": {},
   "outputs": [],
   "source": [
    "#count features of the genbank files\n",
    "def count_features(feature_types):\n",
    "    feature_count=Counter(feature_types)\n",
    "    print('features have been counted')\n",
    "    return feature_count"
   ]
  },
  {
   "cell_type": "code",
   "execution_count": 10,
   "id": "9e47a00d-4ffe-4a73-95b4-a962e619f470",
   "metadata": {},
   "outputs": [],
   "source": [
    "def scan_all_features(files):\n",
    "    allfeatures=[]\n",
    "    for gfile in gfiles:\n",
    "        feature_types=read_file(gfile)\n",
    "        allfeatures.extend(feature_types)\n",
    "\n",
    "    allfeatures=set(allfeatures)\n",
    "    allfeatures=list(allfeatures)\n",
    "    print('all features have been identified')\n",
    "    return allfeatures"
   ]
  },
  {
   "cell_type": "code",
   "execution_count": 11,
   "id": "d6497474-a56f-41b7-99f9-d4c3b425ea38",
   "metadata": {},
   "outputs": [
    {
     "name": "stdout",
     "output_type": "stream",
     "text": [
      "all features have been identified\n"
     ]
    }
   ],
   "source": [
    "allfeatures=scan_all_features(gfiles)"
   ]
  },
  {
   "cell_type": "code",
   "execution_count": 12,
   "id": "05bf5490-53fc-4965-96c4-eb4ba0d7a259",
   "metadata": {},
   "outputs": [
    {
     "name": "stdout",
     "output_type": "stream",
     "text": [
      "['gene', 'regulatory', 'tmRNA', 'CDS', 'ncRNA', 'source', 'misc_binding', 'rRNA', 'tRNA']\n"
     ]
    }
   ],
   "source": [
    "print(allfeatures)"
   ]
  },
  {
   "cell_type": "code",
   "execution_count": 13,
   "id": "3ac8d46c-ff5e-43d6-aed4-49f6d354d240",
   "metadata": {},
   "outputs": [],
   "source": [
    "#empty list for storing counts\n",
    "allfeature_count=[]"
   ]
  },
  {
   "cell_type": "code",
   "execution_count": 14,
   "id": "e0b4bfce-5425-46ed-a471-41699862c9da",
   "metadata": {},
   "outputs": [
    {
     "name": "stdout",
     "output_type": "stream",
     "text": [
      "features have been counted\n",
      "features have been counted\n",
      "features have been counted\n",
      "features have been counted\n",
      "features have been counted\n"
     ]
    }
   ],
   "source": [
    "for gfile in gfiles:\n",
    "    directory,filename=os.path.split(gfile)\n",
    "    filename=filename.strip('.gb')\n",
    "    feature_types=read_file(gfile)\n",
    "    feature_count=count_features(feature_types)\n",
    "    temp_count=[]\n",
    "\n",
    "    temp_count.append(filename)\n",
    "\n",
    "    for feature in allfeatures:\n",
    "        if feature in feature_count.keys():\n",
    "            temp_count.append(feature_count[feature])\n",
    "        else:\n",
    "            temp_count.append(0)\n",
    "\n",
    "    allfeature_count.append(temp_count)\n"
   ]
  },
  {
   "cell_type": "code",
   "execution_count": 15,
   "id": "9bed6ce8-face-4c9e-a757-9f6ba26203cd",
   "metadata": {},
   "outputs": [
    {
     "data": {
      "text/plain": [
       "5"
      ]
     },
     "execution_count": 15,
     "metadata": {},
     "output_type": "execute_result"
    }
   ],
   "source": [
    "len(allfeature_count)"
   ]
  },
  {
   "cell_type": "code",
   "execution_count": 25,
   "id": "007beac9-2d61-4ae3-a39d-a60130bf1d43",
   "metadata": {},
   "outputs": [
    {
     "data": {
      "text/plain": [
       "['P10', 3250, 10, 1, 3179, 3, 1, 0, 8, 59]"
      ]
     },
     "execution_count": 25,
     "metadata": {},
     "output_type": "execute_result"
    }
   ],
   "source": [
    "allfeature_count[2]"
   ]
  },
  {
   "cell_type": "code",
   "execution_count": 26,
   "id": "daf4bc21-4949-4b99-8c6e-a0ce921ae11b",
   "metadata": {},
   "outputs": [
    {
     "name": "stdout",
     "output_type": "stream",
     "text": [
      "['gene', 'regulatory', 'tmRNA', 'CDS', 'ncRNA', 'source', 'misc_binding', 'rRNA', 'tRNA']\n"
     ]
    }
   ],
   "source": [
    "print(allfeatures)"
   ]
  },
  {
   "cell_type": "code",
   "execution_count": 27,
   "id": "9b90b917-0697-43d4-beaa-5e12b9460cb0",
   "metadata": {},
   "outputs": [
    {
     "data": {
      "text/plain": [
       "[['AR465', 2819, 0, 0, 2740, 0, 1, 0, 19, 60],\n",
       " ['M48', 3251, 10, 1, 3171, 3, 1, 0, 16, 60],\n",
       " ['P10', 3250, 10, 1, 3179, 3, 1, 0, 8, 59],\n",
       " ['R50', 3008, 10, 1, 2935, 3, 1, 0, 10, 59],\n",
       " ['V521', 3194, 0, 1, 3114, 3, 1, 10, 16, 60]]"
      ]
     },
     "execution_count": 27,
     "metadata": {},
     "output_type": "execute_result"
    }
   ],
   "source": [
    "allfeature_count"
   ]
  },
  {
   "cell_type": "code",
   "execution_count": 19,
   "id": "fdb54af8-5c90-4c54-91bf-92d340f2f37b",
   "metadata": {},
   "outputs": [],
   "source": [
    "columns=[]\n",
    "columns.append('File')\n",
    "columns.extend(allfeatures)"
   ]
  },
  {
   "cell_type": "code",
   "execution_count": 20,
   "id": "ba459c11-f956-499c-b162-2d990b087e76",
   "metadata": {},
   "outputs": [
    {
     "data": {
      "text/plain": [
       "['File',\n",
       " 'gene',\n",
       " 'regulatory',\n",
       " 'tmRNA',\n",
       " 'CDS',\n",
       " 'ncRNA',\n",
       " 'source',\n",
       " 'misc_binding',\n",
       " 'rRNA',\n",
       " 'tRNA']"
      ]
     },
     "execution_count": 20,
     "metadata": {},
     "output_type": "execute_result"
    }
   ],
   "source": [
    "columns"
   ]
  },
  {
   "cell_type": "code",
   "execution_count": 21,
   "id": "50233e5a-8a08-4e7f-8102-530830c367bd",
   "metadata": {},
   "outputs": [],
   "source": [
    "dataframe=pd.DataFrame(allfeature_count,columns=columns)"
   ]
  },
  {
   "cell_type": "code",
   "execution_count": 22,
   "id": "48bbc35f-7478-484e-afc3-1a76befe0580",
   "metadata": {},
   "outputs": [
    {
     "name": "stdout",
     "output_type": "stream",
     "text": [
      "    File  gene  regulatory  tmRNA   CDS  ncRNA  source  misc_binding  rRNA  \\\n",
      "0  AR465  2819           0      0  2740      0       1             0    19   \n",
      "1    M48  3251          10      1  3171      3       1             0    16   \n",
      "2    P10  3250          10      1  3179      3       1             0     8   \n",
      "3    R50  3008          10      1  2935      3       1             0    10   \n",
      "4   V521  3194           0      1  3114      3       1            10    16   \n",
      "\n",
      "   tRNA  \n",
      "0    60  \n",
      "1    60  \n",
      "2    59  \n",
      "3    59  \n",
      "4    60  \n"
     ]
    }
   ],
   "source": [
    "print(dataframe)"
   ]
  },
  {
   "cell_type": "code",
   "execution_count": 23,
   "id": "1f2dcf85-b28b-4840-93bb-e8f29531f347",
   "metadata": {},
   "outputs": [],
   "source": [
    "finaldata=dataframe.set_index('File')"
   ]
  },
  {
   "cell_type": "code",
   "execution_count": 24,
   "id": "6effe1df-d8f7-4ccd-a7f4-ddf06d8520c1",
   "metadata": {},
   "outputs": [
    {
     "data": {
      "text/html": [
       "<div>\n",
       "<style scoped>\n",
       "    .dataframe tbody tr th:only-of-type {\n",
       "        vertical-align: middle;\n",
       "    }\n",
       "\n",
       "    .dataframe tbody tr th {\n",
       "        vertical-align: top;\n",
       "    }\n",
       "\n",
       "    .dataframe thead th {\n",
       "        text-align: right;\n",
       "    }\n",
       "</style>\n",
       "<table border=\"1\" class=\"dataframe\">\n",
       "  <thead>\n",
       "    <tr style=\"text-align: right;\">\n",
       "      <th></th>\n",
       "      <th>gene</th>\n",
       "      <th>regulatory</th>\n",
       "      <th>tmRNA</th>\n",
       "      <th>CDS</th>\n",
       "      <th>ncRNA</th>\n",
       "      <th>source</th>\n",
       "      <th>misc_binding</th>\n",
       "      <th>rRNA</th>\n",
       "      <th>tRNA</th>\n",
       "    </tr>\n",
       "    <tr>\n",
       "      <th>File</th>\n",
       "      <th></th>\n",
       "      <th></th>\n",
       "      <th></th>\n",
       "      <th></th>\n",
       "      <th></th>\n",
       "      <th></th>\n",
       "      <th></th>\n",
       "      <th></th>\n",
       "      <th></th>\n",
       "    </tr>\n",
       "  </thead>\n",
       "  <tbody>\n",
       "    <tr>\n",
       "      <th>AR465</th>\n",
       "      <td>2819</td>\n",
       "      <td>0</td>\n",
       "      <td>0</td>\n",
       "      <td>2740</td>\n",
       "      <td>0</td>\n",
       "      <td>1</td>\n",
       "      <td>0</td>\n",
       "      <td>19</td>\n",
       "      <td>60</td>\n",
       "    </tr>\n",
       "    <tr>\n",
       "      <th>M48</th>\n",
       "      <td>3251</td>\n",
       "      <td>10</td>\n",
       "      <td>1</td>\n",
       "      <td>3171</td>\n",
       "      <td>3</td>\n",
       "      <td>1</td>\n",
       "      <td>0</td>\n",
       "      <td>16</td>\n",
       "      <td>60</td>\n",
       "    </tr>\n",
       "    <tr>\n",
       "      <th>P10</th>\n",
       "      <td>3250</td>\n",
       "      <td>10</td>\n",
       "      <td>1</td>\n",
       "      <td>3179</td>\n",
       "      <td>3</td>\n",
       "      <td>1</td>\n",
       "      <td>0</td>\n",
       "      <td>8</td>\n",
       "      <td>59</td>\n",
       "    </tr>\n",
       "    <tr>\n",
       "      <th>R50</th>\n",
       "      <td>3008</td>\n",
       "      <td>10</td>\n",
       "      <td>1</td>\n",
       "      <td>2935</td>\n",
       "      <td>3</td>\n",
       "      <td>1</td>\n",
       "      <td>0</td>\n",
       "      <td>10</td>\n",
       "      <td>59</td>\n",
       "    </tr>\n",
       "    <tr>\n",
       "      <th>V521</th>\n",
       "      <td>3194</td>\n",
       "      <td>0</td>\n",
       "      <td>1</td>\n",
       "      <td>3114</td>\n",
       "      <td>3</td>\n",
       "      <td>1</td>\n",
       "      <td>10</td>\n",
       "      <td>16</td>\n",
       "      <td>60</td>\n",
       "    </tr>\n",
       "  </tbody>\n",
       "</table>\n",
       "</div>"
      ],
      "text/plain": [
       "       gene  regulatory  tmRNA   CDS  ncRNA  source  misc_binding  rRNA  tRNA\n",
       "File                                                                         \n",
       "AR465  2819           0      0  2740      0       1             0    19    60\n",
       "M48    3251          10      1  3171      3       1             0    16    60\n",
       "P10    3250          10      1  3179      3       1             0     8    59\n",
       "R50    3008          10      1  2935      3       1             0    10    59\n",
       "V521   3194           0      1  3114      3       1            10    16    60"
      ]
     },
     "execution_count": 24,
     "metadata": {},
     "output_type": "execute_result"
    }
   ],
   "source": [
    "finaldata"
   ]
  },
  {
   "cell_type": "code",
   "execution_count": null,
   "id": "f0bf0aa8-9b97-4061-9f75-506d60c65f9d",
   "metadata": {},
   "outputs": [],
   "source": []
  }
 ],
 "metadata": {
  "kernelspec": {
   "display_name": "Python 3 (ipykernel)",
   "language": "python",
   "name": "python3"
  },
  "language_info": {
   "codemirror_mode": {
    "name": "ipython",
    "version": 3
   },
   "file_extension": ".py",
   "mimetype": "text/x-python",
   "name": "python",
   "nbconvert_exporter": "python",
   "pygments_lexer": "ipython3",
   "version": "3.11.7"
  }
 },
 "nbformat": 4,
 "nbformat_minor": 5
}
