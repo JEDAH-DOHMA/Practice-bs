{
 "cells": [
  {
   "cell_type": "code",
   "execution_count": 4,
   "id": "0ef53732-7835-419c-a1cd-a6ca6de63d0b",
   "metadata": {},
   "outputs": [
    {
     "name": "stdin",
     "output_type": "stream",
     "text": [
      "~Input a word to mirror it and check for palindromes: you\n"
     ]
    },
    {
     "name": "stdout",
     "output_type": "stream",
     "text": [
      "uoy\n",
      "not a palindrome\n"
     ]
    }
   ],
   "source": [
    "Ace = str(input(\"~Input a word to mirror it and check for palindromes:\") )\n",
    "LoweredAce =  Ace.lower()\n",
    "Aceful = ''.join(char for char in LoweredAce if char.isalnum())\n",
    "rev = Aceful[::-1]\n",
    "print(rev)\n",
    "if rev == Aceful:\n",
    "    print (\"its a palindrome\")\n",
    "else:\n",
    "    print (\"not a palindrome\")"
   ]
  },
  {
   "cell_type": "code",
   "execution_count": null,
   "id": "c25619ee-5e50-4d95-b582-76e2dc9f24d8",
   "metadata": {},
   "outputs": [],
   "source": []
  }
 ],
 "metadata": {
  "kernelspec": {
   "display_name": "Python 3 (ipykernel)",
   "language": "python",
   "name": "python3"
  },
  "language_info": {
   "codemirror_mode": {
    "name": "ipython",
    "version": 3
   },
   "file_extension": ".py",
   "mimetype": "text/x-python",
   "name": "python",
   "nbconvert_exporter": "python",
   "pygments_lexer": "ipython3",
   "version": "3.11.7"
  }
 },
 "nbformat": 4,
 "nbformat_minor": 5
}
